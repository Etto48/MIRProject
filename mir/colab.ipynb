{
 "cells": [
  {
   "cell_type": "markdown",
   "metadata": {},
   "source": [
    "# Multimedia Information Retrieval Project\n",
    "By \"The Karate Kid\" group:\n",
    "- [Ettore Ricci](https://github.com/Etto48)\n",
    "- [Paolo Palumbo](https://github.com/paolpal)\n",
    "- [Zahra Omrani](https://github.com/zahra-omrani)\n",
    "- [Erni Deliallisi]()"
   ]
  },
  {
   "cell_type": "markdown",
   "metadata": {},
   "source": [
    "Here we check if the project python package is available, if not, we download and install it."
   ]
  },
  {
   "cell_type": "code",
   "execution_count": 1,
   "metadata": {},
   "outputs": [],
   "source": [
    "import subprocess\n",
    "\n",
    "import os\n",
    "\n",
    "if os.getenv(\"COLAB_RELEASE_TAG\"):\n",
    "    COLAB = True\n",
    "else:\n",
    "    COLAB = False\n",
    "\n",
    "if COLAB:\n",
    "    try:\n",
    "        # Repo is public\n",
    "        output = subprocess.check_output(['git', 'clone', 'https://github.com/Etto48/MIRProject.git'])\n",
    "    except subprocess.CalledProcessError:\n",
    "        # Repo is private\n",
    "        from google.colab import userdata\n",
    "        token = userdata.get('github_token')\n",
    "        output = subprocess.check_output(['git', 'clone', f'https://{token}@github.com/Etto48/MIRProject.git'])\n",
    "    project_dir = os.path.join(os.getcwd(), 'MIRProject')\n",
    "    output = subprocess.check_output(['pip', 'install', 'MIRProject/'])\n",
    "    import mir\n",
    "else:\n",
    "    try:\n",
    "        import mir\n",
    "    except ImportError:\n",
    "        project_dir = os.path.dirname(os.path.abspath(os.getcwd()))\n",
    "        assert project_dir.endswith('MIRProject'), \\\n",
    "f\"\"\"Please run this script from the project root directory, \n",
    "not from \\\"{project_dir}\\\".\n",
    "Alternatively, you can install the package manually by running\n",
    "\\\"pip install -e .\\\" from the project root directory.\"\"\"\n",
    "        subprocess.check_output(['pip', 'install', '-e', '../'])\n",
    "        import mir"
   ]
  },
  {
   "cell_type": "markdown",
   "metadata": {},
   "source": [
    "Now we can download the dataset."
   ]
  },
  {
   "cell_type": "code",
   "execution_count": 2,
   "metadata": {},
   "outputs": [
    {
     "name": "stdout",
     "output_type": "stream",
     "text": [
      "C:\\Users\\the_E\\Documents\\APPUNTI\\AIDE 2\\Multimedia information retrieval and computer vision\\MIRProject\n",
      "C:\\Users\\the_E\\Documents\\APPUNTI\\AIDE 2\\Multimedia information retrieval and computer vision\\MIRProject\\data\n"
     ]
    }
   ],
   "source": [
    "from mir import PROJECT_DIR, DATA_DIR\n",
    "print(PROJECT_DIR)\n",
    "print(DATA_DIR)"
   ]
  }
 ],
 "metadata": {
  "kernelspec": {
   "display_name": ".venv",
   "language": "python",
   "name": "python3"
  },
  "language_info": {
   "codemirror_mode": {
    "name": "ipython",
    "version": 3
   },
   "file_extension": ".py",
   "mimetype": "text/x-python",
   "name": "python",
   "nbconvert_exporter": "python",
   "pygments_lexer": "ipython3",
   "version": "3.12.4"
  }
 },
 "nbformat": 4,
 "nbformat_minor": 2
}
