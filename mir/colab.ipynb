{
 "cells": [
  {
   "cell_type": "code",
   "execution_count": null,
   "metadata": {},
   "outputs": [],
   "source": [
    "import subprocess\n",
    "# Check if the package is already available\n",
    "try:\n",
    "    import mir\n",
    "except ImportError:\n",
    "    output = subprocess.check_output(['git', 'clone', 'https://github.com/Etto48/MIRProject.git'])\n",
    "    print(output)\n",
    "    output = subprocess.check_output(['pip', 'install', 'MIRProject/'])\n",
    "    print(output)\n",
    "    import mir\n",
    "    "
   ]
  },
  {
   "cell_type": "code",
   "execution_count": null,
   "metadata": {},
   "outputs": [],
   "source": []
  }
 ],
 "metadata": {
  "language_info": {
   "name": "python"
  }
 },
 "nbformat": 4,
 "nbformat_minor": 2
}
